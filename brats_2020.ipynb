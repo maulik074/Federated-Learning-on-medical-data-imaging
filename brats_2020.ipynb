{
  "nbformat": 4,
  "nbformat_minor": 0,
  "metadata": {
    "colab": {
      "provenance": [],
      "gpuType": "T4"
    },
    "kernelspec": {
      "name": "python3",
      "display_name": "Python 3"
    },
    "language_info": {
      "name": "python"
    },
    "accelerator": "GPU"
  },
  "cells": [
    {
      "cell_type": "markdown",
      "source": [
        "We are cropping the images because otherwise first of all, they were taking a lot of time and they were always biased towards non-segmenting anything.\n",
        "\n",
        "Keras image data generator only works with jpg, png and tif files. Therefore we need to define custom data generator for npy files.\n",
        "\n",
        "We will combine 3 channels into one volume and ignore T1 because T1ce is a better contrast enhanced version of T1 so why to take t1 then ?"
      ],
      "metadata": {
        "id": "jUfNUZef4-xZ"
      }
    },
    {
      "cell_type": "code",
      "execution_count": null,
      "metadata": {
        "id": "8jiGRXU8KbvS"
      },
      "outputs": [],
      "source": [
        "import numpy as np\n",
        "import nibabel as nib\n",
        "import glob\n",
        "from tensorflow.keras.utils import to_categorical\n",
        "import matplotlib.pyplot as plt"
      ]
    },
    {
      "cell_type": "code",
      "source": [
        "import tifffile"
      ],
      "metadata": {
        "id": "wPGnHRGhULpG"
      },
      "execution_count": null,
      "outputs": []
    },
    {
      "cell_type": "code",
      "source": [
        "from google.colab import drive\n",
        "drive.mount('/content/drive')"
      ],
      "metadata": {
        "colab": {
          "base_uri": "https://localhost:8080/"
        },
        "id": "TJoQOHePYnVz",
        "outputId": "47b1fd64-3d26-4ac8-fb2f-f785ebcbd7e1"
      },
      "execution_count": null,
      "outputs": [
        {
          "output_type": "stream",
          "name": "stdout",
          "text": [
            "Drive already mounted at /content/drive; to attempt to forcibly remount, call drive.mount(\"/content/drive\", force_remount=True).\n"
          ]
        }
      ]
    },
    {
      "cell_type": "code",
      "source": [
        "from sklearn.preprocessing import MinMaxScaler\n",
        "scaler = MinMaxScaler()\n"
      ],
      "metadata": {
        "id": "foWeWUXCehlj"
      },
      "execution_count": null,
      "outputs": []
    },
    {
      "cell_type": "markdown",
      "source": [
        "## Understanding the dataset"
      ],
      "metadata": {
        "id": "m5MhWGgC9Bwn"
      }
    },
    {
      "cell_type": "code",
      "source": [
        "TRAIN_DATASET_PATH = '/content/drive/MyDrive/BraTS2020_Extracted/BraTS2020_TrainingData/MICCAI_BraTS2020_TrainingData/'"
      ],
      "metadata": {
        "id": "zGK7IsjTekMF"
      },
      "execution_count": null,
      "outputs": []
    },
    {
      "cell_type": "code",
      "source": [
        "test_image_flair=nib.load(TRAIN_DATASET_PATH + 'BraTS20_Training_355/BraTS20_Training_355_flair.nii').get_fdata()"
      ],
      "metadata": {
        "id": "-ERwXktWfNql"
      },
      "execution_count": null,
      "outputs": []
    },
    {
      "cell_type": "code",
      "source": [
        "print(test_image_flair.max())"
      ],
      "metadata": {
        "id": "JGcOY1TFfSUJ",
        "colab": {
          "base_uri": "https://localhost:8080/"
        },
        "outputId": "a0ed99ff-d5a8-4ac0-e148-57407bd0dc83"
      },
      "execution_count": null,
      "outputs": [
        {
          "output_type": "stream",
          "name": "stdout",
          "text": [
            "1854.603271484375\n"
          ]
        }
      ]
    },
    {
      "cell_type": "code",
      "source": [
        "test_image_flair.shape"
      ],
      "metadata": {
        "id": "ExUIQAcnfVkV",
        "colab": {
          "base_uri": "https://localhost:8080/"
        },
        "outputId": "01bcb99b-c715-4f05-eb93-088d62973a6a"
      },
      "execution_count": null,
      "outputs": [
        {
          "output_type": "execute_result",
          "data": {
            "text/plain": [
              "(240, 240, 155)"
            ]
          },
          "metadata": {},
          "execution_count": 8
        }
      ]
    },
    {
      "cell_type": "code",
      "source": [
        "\n",
        "\n",
        "test_image_flair=scaler.fit_transform(test_image_flair.reshape(-1, test_image_flair.shape[-1])).reshape(test_image_flair.shape)"
      ],
      "metadata": {
        "id": "_Oqqf9aufwns"
      },
      "execution_count": null,
      "outputs": []
    },
    {
      "cell_type": "code",
      "source": [
        "test_image_t1=nib.load(TRAIN_DATASET_PATH + 'BraTS20_Training_355/BraTS20_Training_355_t1.nii').get_fdata()"
      ],
      "metadata": {
        "id": "3sgLgDOEgG7X"
      },
      "execution_count": null,
      "outputs": []
    },
    {
      "cell_type": "code",
      "source": [
        "\n",
        "test_image_t1=scaler.fit_transform(test_image_t1.reshape(-1, test_image_t1.shape[-1])).reshape(test_image_t1.shape)"
      ],
      "metadata": {
        "id": "t0Pd-BTSgPxx"
      },
      "execution_count": null,
      "outputs": []
    },
    {
      "cell_type": "code",
      "source": [
        "test_image_t1ce=nib.load(TRAIN_DATASET_PATH + 'BraTS20_Training_355/BraTS20_Training_355_t1ce.nii').get_fdata()"
      ],
      "metadata": {
        "id": "DaoBc0lvgVmE"
      },
      "execution_count": null,
      "outputs": []
    },
    {
      "cell_type": "code",
      "source": [
        "\n",
        "\n",
        "test_image_t1ce=scaler.fit_transform(test_image_t1ce.reshape(-1, test_image_t1ce.shape[-1])).reshape(test_image_t1ce.shape)"
      ],
      "metadata": {
        "id": "-7UBCxQggZIB"
      },
      "execution_count": null,
      "outputs": []
    },
    {
      "cell_type": "code",
      "source": [
        "test_image_t2=nib.load(TRAIN_DATASET_PATH + 'BraTS20_Training_355/BraTS20_Training_355_t2.nii').get_fdata()"
      ],
      "metadata": {
        "id": "ZVWgmdDogcsV"
      },
      "execution_count": null,
      "outputs": []
    },
    {
      "cell_type": "code",
      "source": [
        "test_image_t2=scaler.fit_transform(test_image_t2.reshape(-1, test_image_t2.shape[-1])).reshape(test_image_t2.shape)"
      ],
      "metadata": {
        "id": "zFMZRQY6gf0C"
      },
      "execution_count": null,
      "outputs": []
    },
    {
      "cell_type": "code",
      "source": [
        "test_mask=nib.load(TRAIN_DATASET_PATH + 'BraTS20_Training_355/BraTS20_Training_355_seg.nii').get_fdata()\n",
        "test_mask=test_mask.astype(np.uint8)"
      ],
      "metadata": {
        "id": "ogdgQIkSgjqk"
      },
      "execution_count": null,
      "outputs": []
    },
    {
      "cell_type": "code",
      "source": [
        "print(np.unique(test_mask))"
      ],
      "metadata": {
        "id": "byHZqeOygm5M",
        "colab": {
          "base_uri": "https://localhost:8080/"
        },
        "outputId": "79defc53-8670-45e6-8dff-ce540513d067"
      },
      "execution_count": null,
      "outputs": [
        {
          "output_type": "stream",
          "name": "stdout",
          "text": [
            "[0 1 2 4]\n"
          ]
        }
      ]
    },
    {
      "cell_type": "code",
      "source": [
        "\n",
        "test_mask[test_mask==4] = 3"
      ],
      "metadata": {
        "id": "Qrtci1Evg-WU"
      },
      "execution_count": null,
      "outputs": []
    },
    {
      "cell_type": "code",
      "source": [
        "print(np.unique(test_mask))"
      ],
      "metadata": {
        "id": "Bfx5D8f0hCNa",
        "colab": {
          "base_uri": "https://localhost:8080/"
        },
        "outputId": "b1ad4a3b-24e3-4348-d127-761b26245893"
      },
      "execution_count": null,
      "outputs": [
        {
          "output_type": "stream",
          "name": "stdout",
          "text": [
            "[0 1 2 3]\n"
          ]
        }
      ]
    },
    {
      "cell_type": "code",
      "source": [
        "import random\n",
        "n_slice=random.randint(0, test_mask.shape[2])"
      ],
      "metadata": {
        "id": "IOtQyZmQhElw"
      },
      "execution_count": null,
      "outputs": []
    },
    {
      "cell_type": "code",
      "source": [
        "plt.figure(figsize=(12, 8))\n",
        "\n",
        "plt.subplot(231)\n",
        "plt.imshow(test_image_flair[:,:,n_slice], cmap='gray')\n",
        "plt.title('Image flair')\n",
        "plt.subplot(232)\n",
        "plt.imshow(test_image_t1[:,:,n_slice], cmap='gray')\n",
        "plt.title('Image t1')\n",
        "plt.subplot(233)\n",
        "plt.imshow(test_image_t1ce[:,:,n_slice], cmap='gray')\n",
        "plt.title('Image t1ce')\n",
        "plt.subplot(234)\n",
        "plt.imshow(test_image_t2[:,:,n_slice], cmap='gray')\n",
        "plt.title('Image t2')\n",
        "plt.subplot(235)\n",
        "plt.imshow(test_mask[:,:,n_slice])\n",
        "plt.title('Mask')\n",
        "plt.show()"
      ],
      "metadata": {
        "id": "sVpz83JXhHi1",
        "colab": {
          "base_uri": "https://localhost:8080/",
          "height": 692
        },
        "outputId": "a51a8f6b-45fa-4d48-9e0d-943162cabecb"
      },
      "execution_count": null,
      "outputs": [
        {
          "output_type": "display_data",
          "data": {
            "text/plain": [
              "<Figure size 1200x800 with 5 Axes>"
            ],
            "image/png": "[encoded data removed]"
          },
          "metadata": {}
        }
      ]
    },
    {
      "cell_type": "code",
      "source": [
        "\n",
        "combined_x = np.stack([test_image_flair, test_image_t1ce, test_image_t2], axis=3)"
      ],
      "metadata": {
        "id": "byBpZR9whK2e"
      },
      "execution_count": null,
      "outputs": []
    },
    {
      "cell_type": "code",
      "source": [
        "combined_x=combined_x[56:184, 56:184, 13:141] #Cropping to 128x128x128x4"
      ],
      "metadata": {
        "id": "6xQCdhqf7IaR"
      },
      "execution_count": null,
      "outputs": []
    },
    {
      "cell_type": "code",
      "source": [
        "test_mask = test_mask[56:184, 56:184, 13:141]"
      ],
      "metadata": {
        "id": "4ASg2bc-7Lxx"
      },
      "execution_count": null,
      "outputs": []
    },
    {
      "cell_type": "code",
      "source": [
        "n_slice=random.randint(0, test_mask.shape[2])\n",
        "plt.figure(figsize=(12, 8))"
      ],
      "metadata": {
        "colab": {
          "base_uri": "https://localhost:8080/",
          "height": 53
        },
        "id": "jC9RyFlr7N7_",
        "outputId": "ad50d4cb-0c39-4458-8cd9-19445971c508"
      },
      "execution_count": null,
      "outputs": [
        {
          "output_type": "execute_result",
          "data": {
            "text/plain": [
              "<Figure size 1200x800 with 0 Axes>"
            ]
          },
          "metadata": {},
          "execution_count": 88
        },
        {
          "output_type": "display_data",
          "data": {
            "text/plain": [
              "<Figure size 1200x800 with 0 Axes>"
            ]
          },
          "metadata": {}
        }
      ]
    },
    {
      "cell_type": "code",
      "source": [
        "plt.subplot(221)\n",
        "plt.imshow(combined_x[:,:,n_slice, 0], cmap='gray')\n",
        "plt.title('Image flair')\n",
        "plt.subplot(222)\n",
        "plt.imshow(combined_x[:,:,n_slice, 1], cmap='gray')\n",
        "plt.title('Image t1ce')\n",
        "plt.subplot(223)\n",
        "plt.imshow(combined_x[:,:,n_slice, 2], cmap='gray')\n",
        "plt.title('Image t2')\n",
        "plt.subplot(224)\n",
        "plt.imshow(test_mask[:,:,n_slice])\n",
        "plt.title('Mask')\n",
        "plt.show()"
      ],
      "metadata": {
        "colab": {
          "base_uri": "https://localhost:8080/",
          "height": 452
        },
        "id": "RRmLy6Tg7QHe",
        "outputId": "6079d8da-378b-4e60-bb73-372bb04623c6"
      },
      "execution_count": null,
      "outputs": [
        {
          "output_type": "display_data",
          "data": {
            "text/plain": [
              "<Figure size 640x480 with 4 Axes>"
            ],
            "image/png": "[encoded data removed]"
          },
          "metadata": {}
        }
      ]
    },
    {
      "cell_type": "code",
      "source": [
        "tifffile.imwrite('/content/drive/MyDrive/BraTS2020_Extracted/BraTS2020_TrainingData/combined255.tif', combined_x)\n",
        "np.save('/content/drive/MyDrive/BraTS2020_Extracted/BraTS2020_TrainingData/combined255.npy', combined_x)"
      ],
      "metadata": {
        "id": "hzXOL3xp7TQk"
      },
      "execution_count": null,
      "outputs": []
    },
    {
      "cell_type": "code",
      "source": [
        "my_img=np.load('/content/drive/MyDrive/BraTS2020_Extracted/BraTS2020_TrainingData/combined255.npy')"
      ],
      "metadata": {
        "id": "hccf3TxS7atR"
      },
      "execution_count": null,
      "outputs": []
    },
    {
      "cell_type": "code",
      "source": [
        "test_mask = to_categorical(test_mask, num_classes=4)"
      ],
      "metadata": {
        "id": "cOU3rjDj9Rpp"
      },
      "execution_count": null,
      "outputs": []
    },
    {
      "cell_type": "code",
      "source": [
        "my_img.shape"
      ],
      "metadata": {
        "colab": {
          "base_uri": "https://localhost:8080/"
        },
        "id": "ch0f7K359XVM",
        "outputId": "9431a6df-5f42-408c-a44b-4d011ee9e515"
      },
      "execution_count": null,
      "outputs": [
        {
          "output_type": "execute_result",
          "data": {
            "text/plain": [
              "(128, 128, 128, 3)"
            ]
          },
          "metadata": {},
          "execution_count": 93
        }
      ]
    },
    {
      "cell_type": "code",
      "source": [
        "\n",
        "#t1_list = sorted(glob.glob('BraTS2020_TrainingData/MICCAI_BraTS2020_TrainingData/*/*t1.nii'))\n",
        "t2_list = sorted(glob.glob('/content/drive/MyDrive/BraTS2020_Extracted/BraTS2020_TrainingData/MICCAI_BraTS2020_TrainingData/*/*t2.nii'))\n",
        "t1ce_list = sorted(glob.glob('/content/drive/MyDrive/BraTS2020_Extracted/BraTS2020_TrainingData/MICCAI_BraTS2020_TrainingData/*/*t1ce.nii'))\n",
        "flair_list = sorted(glob.glob('/content/drive/MyDrive/BraTS2020_Extracted/BraTS2020_TrainingData/MICCAI_BraTS2020_TrainingData/*/*flair.nii'))\n",
        "mask_list = sorted(glob.glob('/content/drive/MyDrive/BraTS2020_Extracted/BraTS2020_TrainingData/MICCAI_BraTS2020_TrainingData/*/*seg.nii'))\n"
      ],
      "metadata": {
        "id": "CWhX6U3L9m4l"
      },
      "execution_count": null,
      "outputs": []
    },
    {
      "cell_type": "code",
      "source": [
        "for img in range(len(t2_list)):\n",
        "    print(\"Now preparing image and masks number: \", img)\n",
        "\n",
        "    temp_image_t2=nib.load(t2_list[img]).get_fdata()\n",
        "    temp_image_t2=scaler.fit_transform(temp_image_t2.reshape(-1, temp_image_t2.shape[-1])).reshape(temp_image_t2.shape)\n",
        "\n",
        "    temp_image_t1ce=nib.load(t1ce_list[img]).get_fdata()\n",
        "    temp_image_t1ce=scaler.fit_transform(temp_image_t1ce.reshape(-1, temp_image_t1ce.shape[-1])).reshape(temp_image_t1ce.shape)\n",
        "\n",
        "    temp_image_flair=nib.load(flair_list[img]).get_fdata()\n",
        "    temp_image_flair=scaler.fit_transform(temp_image_flair.reshape(-1, temp_image_flair.shape[-1])).reshape(temp_image_flair.shape)\n",
        "\n",
        "    temp_mask=nib.load(mask_list[img]).get_fdata()\n",
        "    temp_mask=temp_mask.astype(np.uint8)\n",
        "    temp_mask[temp_mask==4] = 3  #Reassign mask values 4 to 3\n",
        "    #print(np.unique(temp_mask))\n",
        "\n",
        "\n",
        "    temp_combined_images = np.stack([temp_image_flair, temp_image_t1ce, temp_image_t2], axis=3)\n",
        "\n",
        "    #Crop to a size to be divisible by 64 so we can later extract 64x64x64 patches.\n",
        "    #cropping x, y, and z\n",
        "    temp_combined_images=temp_combined_images[56:184, 56:184, 13:141]\n",
        "    temp_mask = temp_mask[56:184, 56:184, 13:141]\n",
        "\n",
        "    val, counts = np.unique(temp_mask, return_counts=True)\n",
        "\n",
        "    if (1 - (counts[0]/counts.sum())) > 0.01:  #At least 1% useful volume with labels that are not 0\n",
        "        print(\"Save Me\")\n",
        "        temp_mask= to_categorical(temp_mask, num_classes=4)\n",
        "        np.save('/content/drive/MyDrive/BraTS2020_Extracted/BraTS2020_TrainingData/input_data_3channels/images/image_'+str(img)+'.npy', temp_combined_images)\n",
        "        np.save('/content/drive/MyDrive/BraTS2020_Extracted/BraTS2020_TrainingData/input_data_3channels/masks/mask_'+str(img)+'.npy', temp_mask)\n",
        "\n",
        "    else:\n",
        "        print(\"I am useless\")"
      ],
      "metadata": {
        "colab": {
          "base_uri": "https://localhost:8080/",
          "height": 420
        },
        "id": "h5dCLUOi-BtM",
        "outputId": "640d0d39-c8c8-4423-bb05-3d17c7fdd54f"
      },
      "execution_count": null,
      "outputs": [
        {
          "output_type": "stream",
          "name": "stdout",
          "text": [
            "Now preparing image and masks number:  0\n"
          ]
        },
        {
          "output_type": "error",
          "ename": "KeyboardInterrupt",
          "evalue": "",
          "traceback": [
            "\u001b[0;31m---------------------------------------------------------------------------\u001b[0m",
            "\u001b[0;31mKeyboardInterrupt\u001b[0m                         Traceback (most recent call last)",
            "\u001b[0;32m<ipython-input-111-1fcd9ef29e8a>\u001b[0m in \u001b[0;36m<cell line: 0>\u001b[0;34m()\u001b[0m\n\u001b[1;32m      8\u001b[0m     \u001b[0mtemp_image_t1ce\u001b[0m\u001b[0;34m=\u001b[0m\u001b[0mscaler\u001b[0m\u001b[0;34m.\u001b[0m\u001b[0mfit_transform\u001b[0m\u001b[0;34m(\u001b[0m\u001b[0mtemp_image_t1ce\u001b[0m\u001b[0;34m.\u001b[0m\u001b[0mreshape\u001b[0m\u001b[0;34m(\u001b[0m\u001b[0;34m-\u001b[0m\u001b[0;36m1\u001b[0m\u001b[0;34m,\u001b[0m \u001b[0mtemp_image_t1ce\u001b[0m\u001b[0;34m.\u001b[0m\u001b[0mshape\u001b[0m\u001b[0;34m[\u001b[0m\u001b[0;34m-\u001b[0m\u001b[0;36m1\u001b[0m\u001b[0;34m]\u001b[0m\u001b[0;34m)\u001b[0m\u001b[0;34m)\u001b[0m\u001b[0;34m.\u001b[0m\u001b[0mreshape\u001b[0m\u001b[0;34m(\u001b[0m\u001b[0mtemp_image_t1ce\u001b[0m\u001b[0;34m.\u001b[0m\u001b[0mshape\u001b[0m\u001b[0;34m)\u001b[0m\u001b[0;34m\u001b[0m\u001b[0;34m\u001b[0m\u001b[0m\n\u001b[1;32m      9\u001b[0m \u001b[0;34m\u001b[0m\u001b[0m\n\u001b[0;32m---> 10\u001b[0;31m     \u001b[0mtemp_image_flair\u001b[0m\u001b[0;34m=\u001b[0m\u001b[0mnib\u001b[0m\u001b[0;34m.\u001b[0m\u001b[0mload\u001b[0m\u001b[0;34m(\u001b[0m\u001b[0mflair_list\u001b[0m\u001b[0;34m[\u001b[0m\u001b[0mimg\u001b[0m\u001b[0;34m]\u001b[0m\u001b[0;34m)\u001b[0m\u001b[0;34m.\u001b[0m\u001b[0mget_fdata\u001b[0m\u001b[0;34m(\u001b[0m\u001b[0;34m)\u001b[0m\u001b[0;34m\u001b[0m\u001b[0;34m\u001b[0m\u001b[0m\n\u001b[0m\u001b[1;32m     11\u001b[0m     \u001b[0mtemp_image_flair\u001b[0m\u001b[0;34m=\u001b[0m\u001b[0mscaler\u001b[0m\u001b[0;34m.\u001b[0m\u001b[0mfit_transform\u001b[0m\u001b[0;34m(\u001b[0m\u001b[0mtemp_image_flair\u001b[0m\u001b[0;34m.\u001b[0m\u001b[0mreshape\u001b[0m\u001b[0;34m(\u001b[0m\u001b[0;34m-\u001b[0m\u001b[0;36m1\u001b[0m\u001b[0;34m,\u001b[0m \u001b[0mtemp_image_flair\u001b[0m\u001b[0;34m.\u001b[0m\u001b[0mshape\u001b[0m\u001b[0;34m[\u001b[0m\u001b[0;34m-\u001b[0m\u001b[0;36m1\u001b[0m\u001b[0;34m]\u001b[0m\u001b[0;34m)\u001b[0m\u001b[0;34m)\u001b[0m\u001b[0;34m.\u001b[0m\u001b[0mreshape\u001b[0m\u001b[0;34m(\u001b[0m\u001b[0mtemp_image_flair\u001b[0m\u001b[0;34m.\u001b[0m\u001b[0mshape\u001b[0m\u001b[0;34m)\u001b[0m\u001b[0;34m\u001b[0m\u001b[0;34m\u001b[0m\u001b[0m\n\u001b[1;32m     12\u001b[0m \u001b[0;34m\u001b[0m\u001b[0m\n",
            "\u001b[0;32m/usr/local/lib/python3.11/dist-packages/nibabel/loadsave.py\u001b[0m in \u001b[0;36mload\u001b[0;34m(filename, **kwargs)\u001b[0m\n\u001b[1;32m    107\u001b[0m     \u001b[0msniff\u001b[0m \u001b[0;34m=\u001b[0m \u001b[0;32mNone\u001b[0m\u001b[0;34m\u001b[0m\u001b[0;34m\u001b[0m\u001b[0m\n\u001b[1;32m    108\u001b[0m     \u001b[0;32mfor\u001b[0m \u001b[0mimage_klass\u001b[0m \u001b[0;32min\u001b[0m \u001b[0mall_image_classes\u001b[0m\u001b[0;34m:\u001b[0m\u001b[0;34m\u001b[0m\u001b[0;34m\u001b[0m\u001b[0m\n\u001b[0;32m--> 109\u001b[0;31m         \u001b[0mis_valid\u001b[0m\u001b[0;34m,\u001b[0m \u001b[0msniff\u001b[0m \u001b[0;34m=\u001b[0m \u001b[0mimage_klass\u001b[0m\u001b[0;34m.\u001b[0m\u001b[0mpath_maybe_image\u001b[0m\u001b[0;34m(\u001b[0m\u001b[0mfilename\u001b[0m\u001b[0;34m,\u001b[0m \u001b[0msniff\u001b[0m\u001b[0;34m)\u001b[0m\u001b[0;34m\u001b[0m\u001b[0;34m\u001b[0m\u001b[0m\n\u001b[0m\u001b[1;32m    110\u001b[0m         \u001b[0;32mif\u001b[0m \u001b[0mis_valid\u001b[0m\u001b[0;34m:\u001b[0m\u001b[0;34m\u001b[0m\u001b[0;34m\u001b[0m\u001b[0m\n\u001b[1;32m    111\u001b[0m             \u001b[0mimg\u001b[0m \u001b[0;34m=\u001b[0m \u001b[0mimage_klass\u001b[0m\u001b[0;34m.\u001b[0m\u001b[0mfrom_filename\u001b[0m\u001b[0;34m(\u001b[0m\u001b[0mfilename\u001b[0m\u001b[0;34m,\u001b[0m \u001b[0;34m**\u001b[0m\u001b[0mkwargs\u001b[0m\u001b[0;34m)\u001b[0m\u001b[0;34m\u001b[0m\u001b[0;34m\u001b[0m\u001b[0m\n",
            "\u001b[0;32m/usr/local/lib/python3.11/dist-packages/nibabel/filebasedimages.py\u001b[0m in \u001b[0;36mpath_maybe_image\u001b[0;34m(klass, filename, sniff, sniff_max)\u001b[0m\n\u001b[1;32m    475\u001b[0m         \u001b[0;32mif\u001b[0m \u001b[0msniff\u001b[0m \u001b[0;32mis\u001b[0m \u001b[0;32mnot\u001b[0m \u001b[0;32mNone\u001b[0m \u001b[0;32mand\u001b[0m \u001b[0mlen\u001b[0m\u001b[0;34m(\u001b[0m\u001b[0msniff\u001b[0m\u001b[0;34m[\u001b[0m\u001b[0;36m0\u001b[0m\u001b[0;34m]\u001b[0m\u001b[0;34m)\u001b[0m \u001b[0;34m<\u001b[0m \u001b[0mklass\u001b[0m\u001b[0;34m.\u001b[0m\u001b[0m_meta_sniff_len\u001b[0m\u001b[0;34m:\u001b[0m\u001b[0;34m\u001b[0m\u001b[0;34m\u001b[0m\u001b[0m\n\u001b[1;32m    476\u001b[0m             \u001b[0msniff\u001b[0m \u001b[0;34m=\u001b[0m \u001b[0;32mNone\u001b[0m\u001b[0;34m\u001b[0m\u001b[0;34m\u001b[0m\u001b[0m\n\u001b[0;32m--> 477\u001b[0;31m         \u001b[0msniff\u001b[0m \u001b[0;34m=\u001b[0m \u001b[0mklass\u001b[0m\u001b[0;34m.\u001b[0m\u001b[0m_sniff_meta_for\u001b[0m\u001b[0;34m(\u001b[0m\u001b[0mfilename\u001b[0m\u001b[0;34m,\u001b[0m \u001b[0mmax\u001b[0m\u001b[0;34m(\u001b[0m\u001b[0mklass\u001b[0m\u001b[0;34m.\u001b[0m\u001b[0m_meta_sniff_len\u001b[0m\u001b[0;34m,\u001b[0m \u001b[0msniff_max\u001b[0m\u001b[0;34m)\u001b[0m\u001b[0;34m,\u001b[0m \u001b[0msniff\u001b[0m\u001b[0;34m)\u001b[0m\u001b[0;34m\u001b[0m\u001b[0;34m\u001b[0m\u001b[0m\n\u001b[0m\u001b[1;32m    478\u001b[0m         \u001b[0;32mif\u001b[0m \u001b[0msniff\u001b[0m \u001b[0;32mis\u001b[0m \u001b[0;32mNone\u001b[0m \u001b[0;32mor\u001b[0m \u001b[0mlen\u001b[0m\u001b[0;34m(\u001b[0m\u001b[0msniff\u001b[0m\u001b[0;34m[\u001b[0m\u001b[0;36m0\u001b[0m\u001b[0;34m]\u001b[0m\u001b[0;34m)\u001b[0m \u001b[0;34m<\u001b[0m \u001b[0mklass\u001b[0m\u001b[0;34m.\u001b[0m\u001b[0m_meta_sniff_len\u001b[0m\u001b[0;34m:\u001b[0m\u001b[0;34m\u001b[0m\u001b[0;34m\u001b[0m\u001b[0m\n\u001b[1;32m    479\u001b[0m             \u001b[0;32mreturn\u001b[0m \u001b[0;32mFalse\u001b[0m\u001b[0;34m,\u001b[0m \u001b[0msniff\u001b[0m\u001b[0;34m\u001b[0m\u001b[0;34m\u001b[0m\u001b[0m\n",
            "\u001b[0;32m/usr/local/lib/python3.11/dist-packages/nibabel/filebasedimages.py\u001b[0m in \u001b[0;36m_sniff_meta_for\u001b[0;34m(klass, filename, sniff_nbytes, sniff)\u001b[0m\n\u001b[1;32m    421\u001b[0m         \u001b[0;32mtry\u001b[0m\u001b[0;34m:\u001b[0m\u001b[0;34m\u001b[0m\u001b[0;34m\u001b[0m\u001b[0m\n\u001b[1;32m    422\u001b[0m             \u001b[0;32mwith\u001b[0m \u001b[0mImageOpener\u001b[0m\u001b[0;34m(\u001b[0m\u001b[0mmeta_fname\u001b[0m\u001b[0;34m,\u001b[0m \u001b[0;34m'rb'\u001b[0m\u001b[0;34m)\u001b[0m \u001b[0;32mas\u001b[0m \u001b[0mfobj\u001b[0m\u001b[0;34m:\u001b[0m\u001b[0;34m\u001b[0m\u001b[0;34m\u001b[0m\u001b[0m\n\u001b[0;32m--> 423\u001b[0;31m                 \u001b[0mbinaryblock\u001b[0m \u001b[0;34m=\u001b[0m \u001b[0mfobj\u001b[0m\u001b[0;34m.\u001b[0m\u001b[0mread\u001b[0m\u001b[0;34m(\u001b[0m\u001b[0msniff_nbytes\u001b[0m\u001b[0;34m)\u001b[0m\u001b[0;34m\u001b[0m\u001b[0;34m\u001b[0m\u001b[0m\n\u001b[0m\u001b[1;32m    424\u001b[0m         \u001b[0;32mexcept\u001b[0m \u001b[0mCOMPRESSION_ERRORS\u001b[0m \u001b[0;34m+\u001b[0m \u001b[0;34m(\u001b[0m\u001b[0mOSError\u001b[0m\u001b[0;34m,\u001b[0m \u001b[0mEOFError\u001b[0m\u001b[0;34m)\u001b[0m\u001b[0;34m:\u001b[0m\u001b[0;34m\u001b[0m\u001b[0;34m\u001b[0m\u001b[0m\n\u001b[1;32m    425\u001b[0m             \u001b[0;32mreturn\u001b[0m \u001b[0;32mNone\u001b[0m\u001b[0;34m\u001b[0m\u001b[0;34m\u001b[0m\u001b[0m\n",
            "\u001b[0;32m/usr/local/lib/python3.11/dist-packages/nibabel/openers.py\u001b[0m in \u001b[0;36mread\u001b[0;34m(self, size)\u001b[0m\n\u001b[1;32m    220\u001b[0m \u001b[0;34m\u001b[0m\u001b[0m\n\u001b[1;32m    221\u001b[0m     \u001b[0;32mdef\u001b[0m \u001b[0mread\u001b[0m\u001b[0;34m(\u001b[0m\u001b[0mself\u001b[0m\u001b[0;34m,\u001b[0m \u001b[0msize\u001b[0m\u001b[0;34m:\u001b[0m \u001b[0mint\u001b[0m \u001b[0;34m=\u001b[0m \u001b[0;34m-\u001b[0m\u001b[0;36m1\u001b[0m\u001b[0;34m,\u001b[0m \u001b[0;34m/\u001b[0m\u001b[0;34m)\u001b[0m \u001b[0;34m->\u001b[0m \u001b[0mbytes\u001b[0m\u001b[0;34m:\u001b[0m\u001b[0;34m\u001b[0m\u001b[0;34m\u001b[0m\u001b[0m\n\u001b[0;32m--> 222\u001b[0;31m         \u001b[0;32mreturn\u001b[0m \u001b[0mself\u001b[0m\u001b[0;34m.\u001b[0m\u001b[0mfobj\u001b[0m\u001b[0;34m.\u001b[0m\u001b[0mread\u001b[0m\u001b[0;34m(\u001b[0m\u001b[0msize\u001b[0m\u001b[0;34m)\u001b[0m\u001b[0;34m\u001b[0m\u001b[0;34m\u001b[0m\u001b[0m\n\u001b[0m\u001b[1;32m    223\u001b[0m \u001b[0;34m\u001b[0m\u001b[0m\n\u001b[1;32m    224\u001b[0m     \u001b[0;32mdef\u001b[0m \u001b[0mreadinto\u001b[0m\u001b[0;34m(\u001b[0m\u001b[0mself\u001b[0m\u001b[0;34m,\u001b[0m \u001b[0mbuffer\u001b[0m\u001b[0;34m:\u001b[0m \u001b[0mWriteableBuffer\u001b[0m\u001b[0;34m,\u001b[0m \u001b[0;34m/\u001b[0m\u001b[0;34m)\u001b[0m \u001b[0;34m->\u001b[0m \u001b[0mint\u001b[0m \u001b[0;34m|\u001b[0m \u001b[0;32mNone\u001b[0m\u001b[0;34m:\u001b[0m\u001b[0;34m\u001b[0m\u001b[0;34m\u001b[0m\u001b[0m\n",
            "\u001b[0;31mKeyboardInterrupt\u001b[0m: "
          ]
        }
      ]
    },
    {
      "cell_type": "markdown",
      "source": [
        "Then we split the data between the training and test set"
      ],
      "metadata": {
        "id": "Y6iHM1XESW0e"
      }
    },
    {
      "cell_type": "markdown",
      "source": [
        "## Specifying the training and val dirs and lists"
      ],
      "metadata": {
        "id": "m-JNQbc8qZPh"
      }
    },
    {
      "cell_type": "code",
      "source": [
        "import os\n",
        "\n",
        "\n",
        "train_img_dir = \"/content/drive/MyDrive/BraTS2020_Extracted/BraTS2020_TrainingData/Federated Learning/hosp5/images/\"\n",
        "train_mask_dir = \"/content/drive/MyDrive/BraTS2020_Extracted/BraTS2020_TrainingData/Federated Learning/hosp5/masks/\"\n",
        "train_img_list=os.listdir(train_img_dir)\n",
        "train_mask_list = os.listdir(train_mask_dir)\n",
        "val_img_dir = \"/content/drive/MyDrive/BraTS2020_Extracted/BraTS2020_TrainingData/input_data_128/val/images/\"\n",
        "\n",
        "val_mask_dir = \"/content/drive/MyDrive/BraTS2020_Extracted/BraTS2020_TrainingData/input_data_128/val/masks/\"\n",
        "batch_size = 2\n",
        "val_img_list = os.listdir(val_img_dir)\n",
        "val_mask_list = os.listdir(val_mask_dir)\n",
        "\n",
        "\n"
      ],
      "metadata": {
        "id": "BIxPd1ow5e8D"
      },
      "execution_count": null,
      "outputs": []
    },
    {
      "cell_type": "code",
      "source": [
        "import torch\n",
        "import torch.nn as nn\n",
        "import torch.nn.functional as F\n",
        "import numpy as np\n",
        "from torch.utils.data import Dataset, DataLoader\n",
        "import os\n",
        "from tqdm import tqdm"
      ],
      "metadata": {
        "id": "3nhaxknmlbzX"
      },
      "execution_count": null,
      "outputs": []
    },
    {
      "cell_type": "code",
      "source": [
        "save_dir = \"/content/drive/MyDrive/BraTS2020_Extracted/BraTS2020_TrainingData/Federated Learning/hosp5_models\"\n",
        "os.makedirs(save_dir, exist_ok=True)"
      ],
      "metadata": {
        "id": "9vNpxJHZZPEC"
      },
      "execution_count": null,
      "outputs": []
    },
    {
      "cell_type": "code",
      "source": [
        "import torch\n",
        "import torch.nn as nn\n",
        "import torch.nn.functional as F\n",
        "import numpy as np\n",
        "from torch.utils.data import Dataset, DataLoader\n",
        "import os\n",
        "from tqdm import tqdm\n",
        "hospital_id = \"hosp5\"\n",
        "\n",
        "# Simple 3D U-Net Implementation\n",
        "class Simple3DUNet(nn.Module):\n",
        "    def __init__(self, in_channels=3, out_channels=4):\n",
        "        super(Simple3DUNet, self).__init__()\n",
        "\n",
        "        # Encoder\n",
        "        self.enc1 = self.conv_block(in_channels, 32)\n",
        "        self.enc2 = self.conv_block(32, 64)\n",
        "        self.enc3 = self.conv_block(64, 128)\n",
        "        self.enc4 = self.conv_block(128, 256)\n",
        "\n",
        "        self.pool = nn.MaxPool3d(2)\n",
        "\n",
        "        # Bottleneck\n",
        "        self.bottleneck = self.conv_block(256, 512)\n",
        "\n",
        "        # Decoder\n",
        "        self.upconv4 = self.upconv_block(512, 256)\n",
        "        self.dec4 = self.conv_block(512, 256)\n",
        "        self.upconv3 = self.upconv_block(256, 128)\n",
        "        self.dec3 = self.conv_block(256, 128)\n",
        "        self.upconv2 = self.upconv_block(128, 64)\n",
        "        self.dec2 = self.conv_block(128, 64)\n",
        "        self.upconv1 = self.upconv_block(64, 32)\n",
        "        self.dec1 = self.conv_block(64, 32)\n",
        "\n",
        "        # Final convolution\n",
        "        self.final = nn.Conv3d(32, out_channels, kernel_size=1)\n",
        "\n",
        "    def conv_block(self, in_channels, out_channels):\n",
        "        return nn.Sequential(\n",
        "            nn.Conv3d(in_channels, out_channels, kernel_size=3, padding=1),\n",
        "            nn.BatchNorm3d(out_channels),\n",
        "            nn.ReLU(inplace=True),\n",
        "            nn.Conv3d(out_channels, out_channels, kernel_size=3, padding=1),\n",
        "            nn.BatchNorm3d(out_channels),\n",
        "            nn.ReLU(inplace=True)\n",
        "        )\n",
        "\n",
        "    def upconv_block(self, in_channels, out_channels):\n",
        "        return nn.Sequential(\n",
        "            nn.ConvTranspose3d(in_channels, out_channels, kernel_size=2, stride=2),\n",
        "            nn.BatchNorm3d(out_channels),\n",
        "            nn.ReLU(inplace=True)\n",
        "        )\n",
        "\n",
        "    def forward(self, x):\n",
        "        # Encoder\n",
        "        enc1 = self.enc1(x)\n",
        "        enc2 = self.enc2(self.pool(enc1))\n",
        "        enc3 = self.enc3(self.pool(enc2))\n",
        "        enc4 = self.enc4(self.pool(enc3))\n",
        "\n",
        "        # Bottleneck\n",
        "        bottleneck = self.bottleneck(self.pool(enc4))\n",
        "\n",
        "        # Decoder\n",
        "        dec4 = self.upconv4(bottleneck)\n",
        "        dec4 = torch.cat((dec4, enc4), dim=1)\n",
        "        dec4 = self.dec4(dec4)\n",
        "\n",
        "        dec3 = self.upconv3(dec4)\n",
        "        dec3 = torch.cat((dec3, enc3), dim=1)\n",
        "        dec3 = self.dec3(dec3)\n",
        "\n",
        "        dec2 = self.upconv2(dec3)\n",
        "        dec2 = torch.cat((dec2, enc2), dim=1)\n",
        "        dec2 = self.dec2(dec2)\n",
        "\n",
        "        dec1 = self.upconv1(dec2)\n",
        "        dec1 = torch.cat((dec1, enc1), dim=1)\n",
        "        dec1 = self.dec1(dec1)\n",
        "\n",
        "        return torch.softmax(self.final(dec1), dim=1)\n",
        "\n",
        "# Dataset Class\n",
        "class BratsDataset(Dataset):\n",
        "    def __init__(self, img_dir, mask_dir, img_list):\n",
        "        self.img_dir = img_dir\n",
        "        self.mask_dir = mask_dir\n",
        "        self.img_list = img_list\n",
        "\n",
        "    def __len__(self):\n",
        "        return len(self.img_list)\n",
        "\n",
        "    def __getitem__(self, idx):\n",
        "        img_path = os.path.join(self.img_dir, self.img_list[idx])\n",
        "        mask_path = os.path.join(self.mask_dir, self.img_list[idx].replace(\"image\", \"mask\"))\n",
        "\n",
        "        image = torch.from_numpy(np.load(img_path)).float().permute(3, 0, 1, 2)  # Channel first\n",
        "        mask = torch.from_numpy(np.load(mask_path)).float().permute(3, 0, 1, 2)\n",
        "\n",
        "        return image, mask\n",
        "\n",
        "# Initialize model, dataset and dataloaders\n",
        "device = torch.device('cuda' if torch.cuda.is_available() else 'cpu')\n",
        "model = Simple3DUNet().to(device)\n",
        "\n",
        "# Dataset and Dataloaders\n",
        "train_dataset = BratsDataset(train_img_dir, train_mask_dir, sorted(train_img_list))\n",
        "val_dataset = BratsDataset(val_img_dir, val_mask_dir, sorted(val_img_list))\n",
        "\n",
        "train_loader = DataLoader(train_dataset, batch_size=2, shuffle=True)\n",
        "val_loader = DataLoader(val_dataset, batch_size=2, shuffle=False)\n",
        "\n",
        "# Loss and Optimizer\n",
        "criterion = nn.CrossEntropyLoss()  # Or use Dice Loss\n",
        "optimizer = torch.optim.Adam(model.parameters(), lr=1e-4)\n",
        "\n",
        "# Training Loop\n",
        "num_epochs = 3\n",
        "best_val_loss = float('inf')\n",
        "\n",
        "for epoch in range(num_epochs):\n",
        "    model.train()\n",
        "    train_loss = 0.0\n",
        "\n",
        "    for images, masks in tqdm(train_loader):\n",
        "        images = images.to(device)\n",
        "        masks = masks.to(device)\n",
        "\n",
        "        # Forward pass\n",
        "        outputs = model(images)\n",
        "        loss = criterion(outputs, masks)\n",
        "\n",
        "        # Backward pass\n",
        "        optimizer.zero_grad()\n",
        "        loss.backward()\n",
        "        optimizer.step()\n",
        "\n",
        "        train_loss += loss.item() * images.size(0)\n",
        "\n",
        "    # Validation\n",
        "    model.eval()\n",
        "    val_loss = 0.0\n",
        "    with torch.no_grad():\n",
        "        for images, masks in val_loader:\n",
        "            images = images.to(device)\n",
        "            masks = masks.to(device)\n",
        "\n",
        "            outputs = model(images)\n",
        "            loss = criterion(outputs, masks)\n",
        "            val_loss += loss.item() * images.size(0)\n",
        "\n",
        "    # Calculate metrics\n",
        "    train_loss = train_loss / len(train_dataset)\n",
        "    val_loss = val_loss / len(val_dataset)\n",
        "\n",
        "    # Add this inside your training loop after validation calculations\n",
        "# Save best model based on validation loss\n",
        "    if val_loss < best_val_loss:\n",
        "      best_val_loss = val_loss\n",
        "\n",
        "    # Save with full path\n",
        "      torch.save({\n",
        "        'epoch': epoch,\n",
        "        'model_state_dict': model.state_dict(),\n",
        "        'optimizer_state_dict': optimizer.state_dict(),\n",
        "        'loss': val_loss,\n",
        "    }, os.path.join(save_dir, f'best_model_{hospital_id}.pth'))"
      ],
      "metadata": {
        "colab": {
          "base_uri": "https://localhost:8080/"
        },
        "id": "GkrABr-uECZV",
        "outputId": "faa31c45-8b3d-4183-d6c4-733d8ce150d7"
      },
      "execution_count": null,
      "outputs": [
        {
          "output_type": "stream",
          "name": "stderr",
          "text": [
            "100%|██████████| 25/25 [03:06<00:00,  7.48s/it]\n",
            "100%|██████████| 25/25 [02:04<00:00,  5.00s/it]\n",
            "100%|██████████| 25/25 [02:10<00:00,  5.22s/it]\n"
          ]
        }
      ]
    },
    {
      "cell_type": "code",
      "source": [
        "# Corrected Evaluation Metrics\n",
        "def dice_coeff(pred, target, smooth=1e-6):\n",
        "    # Input shapes: (batch_size, num_classes, D, H, W)\n",
        "    intersection = (pred * target).sum(dim=(2, 3, 4))\n",
        "    union = pred.sum(dim=(2, 3, 4)) + target.sum(dim=(2, 3, 4))\n",
        "\n",
        "    dice = (2. * intersection + smooth) / (union + smooth)\n",
        "    return dice.mean()\n",
        "\n",
        "def jaccard(pred, target, smooth=1e-6):\n",
        "    # Input shapes: (batch_size, num_classes, D, H, W)\n",
        "    intersection = (pred * target).sum(dim=(2, 3, 4))\n",
        "    total = (pred + target).sum(dim=(2, 3, 4))\n",
        "    union = total - intersection\n",
        "\n",
        "    jaccard = (intersection + smooth) / (union + smooth)\n",
        "    return jaccard.mean()\n",
        "\n",
        "def calculate_metrics(model, dataloader):\n",
        "    model.eval()\n",
        "    dice_scores = []\n",
        "    iou_scores = []\n",
        "\n",
        "    with torch.no_grad():\n",
        "        for images, masks in dataloader:\n",
        "            images = images.to(device)\n",
        "            masks = masks.to(device)  # Shape: (batch, 4, D, H, W)\n",
        "\n",
        "            outputs = model(images)\n",
        "            probs = torch.softmax(outputs, dim=1)\n",
        "            preds = torch.argmax(probs, dim=1)  # Shape: (batch, D, H, W)\n",
        "\n",
        "            # Convert to one-hot encoding\n",
        "            preds_onehot = F.one_hot(preds, num_classes=4).permute(0, 4, 1, 2, 3).float()\n",
        "            # preds_onehot shape: (batch, 4, D, H, W)\n",
        "\n",
        "            # Masks are already in (batch, 4, D, H, W) shape\n",
        "            masks_onehot = masks\n",
        "\n",
        "            # Calculate metrics per class (skip background class 0)\n",
        "            for c in range(1, 4):\n",
        "                dice = dice_coeff(preds_onehot[:, c:c+1], masks_onehot[:, c:c+1])\n",
        "                iou = jaccard(preds_onehot[:, c:c+1], masks_onehot[:, c:c+1])\n",
        "\n",
        "                dice_scores.append(dice.item())\n",
        "                iou_scores.append(iou.item())\n",
        "\n",
        "    return np.mean(dice_scores), np.mean(iou_scores)"
      ],
      "metadata": {
        "id": "lgotkQI0HWw6"
      },
      "execution_count": null,
      "outputs": []
    },
    {
      "cell_type": "code",
      "source": [
        "# Calculate validation metrics\n",
        "val_dice, val_iou = calculate_metrics(model, val_loader)\n",
        "print(f\"Validation Dice: {val_dice:.4f} | Validation IoU: {val_iou:.4f}\")"
      ],
      "metadata": {
        "colab": {
          "base_uri": "https://localhost:8080/"
        },
        "id": "flJAaZocMxHJ",
        "outputId": "2948f5c8-0999-4035-f5dc-9ba3372694e8"
      },
      "execution_count": null,
      "outputs": [
        {
          "output_type": "stream",
          "name": "stdout",
          "text": [
            "Validation Dice: 0.1325 | Validation IoU: 0.0869\n"
          ]
        }
      ]
    },
    {
      "cell_type": "code",
      "source": [
        "# Run this after saving files\n",
        "from google.colab import drive\n",
        "drive.flush_and_unmount()\n",
        "drive.mount('/content/drive')  # Re-mount drive"
      ],
      "metadata": {
        "colab": {
          "base_uri": "https://localhost:8080/"
        },
        "id": "gj-y4yyX0Miz",
        "outputId": "cdd5f711-41c5-4c2f-984f-0628e2768d2d"
      },
      "execution_count": null,
      "outputs": [
        {
          "output_type": "stream",
          "name": "stdout",
          "text": [
            "Mounted at /content/drive\n"
          ]
        }
      ]
    },
    {
      "cell_type": "code",
      "source": [
        "import torch\n",
        "import numpy as np\n",
        "from torch.utils.data import DataLoader\n",
        "from sklearn.metrics import jaccard_score\n",
        "\n",
        "# 1. FedAvg Implementation\n",
        "def federated_average(model_paths):\n",
        "    \"\"\"Aggregate models using FedAvg algorithm\"\"\"\n",
        "    global_weights = {}\n",
        "    num_models = len(model_paths)\n",
        "\n",
        "    # Initialize with first model\n",
        "    checkpoint = torch.load(model_paths[0])\n",
        "    for key in checkpoint['model_state_dict']:\n",
        "        global_weights[key] = checkpoint['model_state_dict'][key] / num_models\n",
        "\n",
        "    # Sum weights from other models\n",
        "    for path in model_paths[1:]:\n",
        "        checkpoint = torch.load(path)\n",
        "        state_dict = checkpoint['model_state_dict']\n",
        "        for key in state_dict:\n",
        "            global_weights[key] += state_dict[key] / num_models\n",
        "\n",
        "    return global_weights\n",
        "\n",
        "# 2. Load Global Model\n",
        "class GlobalModel(Simple3DUNet):  # Inherit from your UNet class\n",
        "    def __init__(self):\n",
        "        super().__init__()\n",
        "\n",
        "model_paths = [\n",
        "    '/content/drive/MyDrive/BraTS2020_Extracted/BraTS2020_TrainingData/Federated Learning/Simple U-Net/hosp1_models/best_model_hosp1.pth',\n",
        "    '/content/drive/MyDrive/BraTS2020_Extracted/BraTS2020_TrainingData/Federated Learning/Simple U-Net/hosp2_models/best_model_hosp2.pth',\n",
        "    '/content/drive/MyDrive/BraTS2020_Extracted/BraTS2020_TrainingData/Federated Learning/Simple U-Net/hosp3_models/best_model_hosp3.pth',\n",
        "    '/content/drive/MyDrive/BraTS2020_Extracted/BraTS2020_TrainingData/Federated Learning/Simple U-Net/hosp4_models/best_model_hosp4.pth',\n",
        "    '/content/drive/MyDrive/BraTS2020_Extracted/BraTS2020_TrainingData/Federated Learning/Simple U-Net/hosp5_models/best_model_hosp5.pth'\n",
        "\n",
        "    # ... add all 5 hospital models\n",
        "]\n",
        "\n",
        "global_weights = federated_average(model_paths)\n",
        "global_model = GlobalModel().to(device)\n",
        "global_model.load_state_dict(global_weights)\n",
        "\n",
        "# 3. Evaluation Metrics\n",
        "def compute_metrics(true_mask, pred_mask):\n",
        "    \"\"\"Compute segmentation metrics for 3D volumes\"\"\"\n",
        "    metrics = {}\n",
        "\n",
        "    # Flatten 3D volumes\n",
        "    true_flat = true_mask.cpu().numpy().flatten()\n",
        "    pred_flat = pred_mask.cpu().numpy().flatten()\n",
        "\n",
        "    # Dice Coefficient (F1 Score)\n",
        "    intersection = np.sum(true_flat * pred_flat)\n",
        "    metrics['dice'] = (2. * intersection) / (np.sum(true_flat) + np.sum(pred_flat))\n",
        "\n",
        "    # Jaccard Similarity (IoU)\n",
        "    metrics['iou'] = jaccard_score(true_flat, pred_flat, average='micro')\n",
        "\n",
        "    # Sensitivity and Specificity\n",
        "    tp = np.sum((true_flat == 1) & (pred_flat == 1))\n",
        "    fn = np.sum((true_flat == 1) & (pred_flat == 0))\n",
        "    fp = np.sum((true_flat == 0) & (pred_flat == 1))\n",
        "    tn = np.sum((true_flat == 0) & (pred_flat == 0))\n",
        "\n",
        "    metrics['sensitivity'] = tp / (tp + fn + 1e-9)\n",
        "    metrics['specificity'] = tn / (tn + fp + 1e-9)\n",
        "\n",
        "    return metrics\n",
        "\n",
        "# 4. Evaluation Loop\n",
        "def evaluate_global_model(test_loader):\n",
        "    global_model.eval()\n",
        "    total_metrics = {'dice':0, 'iou':0, 'sensitivity':0, 'specificity':0}\n",
        "\n",
        "    with torch.no_grad():\n",
        "        for images, masks in test_loader:\n",
        "            images = images.to(device)\n",
        "            masks = masks.to(device)\n",
        "\n",
        "            outputs = global_model(images)\n",
        "            preds = torch.argmax(outputs, dim=1)  # For multi-class segmentation\n",
        "\n",
        "            # Update metrics\n",
        "            metrics = compute_metrics(masks, preds)\n",
        "            for key in metrics:\n",
        "                total_metrics[key] += metrics[key] * images.size(0)\n",
        "\n",
        "    # Average across all samples\n",
        "    for key in total_metrics:\n",
        "        total_metrics[key] /= len(test_loader.dataset)\n",
        "\n",
        "    return total_metrics\n",
        "\n",
        "# 5. Run Evaluation\n",
        "# Assuming you have a test dataset loader\n",
        "test_loader = DataLoader(val_dataset, batch_size=2, shuffle=False)\n",
        "metrics = evaluate_global_model(test_loader)\n",
        "\n",
        "print(f\"Global Model Performance:\")\n",
        "print(f\"Dice Coefficient: {metrics['dice']:.4f}\")\n",
        "print(f\"IoU/Jaccard: {metrics['iou']:.4f}\")\n",
        "print(f\"Sensitivity: {metrics['sensitivity']:.4f}\")\n",
        "print(f\"Specificity: {metrics['specificity']:.4f}\")"
      ],
      "metadata": {
        "colab": {
          "base_uri": "https://localhost:8080/",
          "height": 369
        },
        "id": "TXbzhI-xSPyt",
        "outputId": "799dfda9-974b-4510-a668-99d657b93be5"
      },
      "execution_count": null,
      "outputs": [
        {
          "output_type": "error",
          "ename": "ValueError",
          "evalue": "operands could not be broadcast together with shapes (16777216,) (4194304,) ",
          "traceback": [
            "\u001b[0;31m---------------------------------------------------------------------------\u001b[0m",
            "\u001b[0;31mValueError\u001b[0m                                Traceback (most recent call last)",
            "\u001b[0;32m<ipython-input-57-cd9bb3b7178d>\u001b[0m in \u001b[0;36m<cell line: 0>\u001b[0;34m()\u001b[0m\n\u001b[1;32m     97\u001b[0m \u001b[0;31m# Assuming you have a test dataset loader\u001b[0m\u001b[0;34m\u001b[0m\u001b[0;34m\u001b[0m\u001b[0m\n\u001b[1;32m     98\u001b[0m \u001b[0mtest_loader\u001b[0m \u001b[0;34m=\u001b[0m \u001b[0mDataLoader\u001b[0m\u001b[0;34m(\u001b[0m\u001b[0mval_dataset\u001b[0m\u001b[0;34m,\u001b[0m \u001b[0mbatch_size\u001b[0m\u001b[0;34m=\u001b[0m\u001b[0;36m2\u001b[0m\u001b[0;34m,\u001b[0m \u001b[0mshuffle\u001b[0m\u001b[0;34m=\u001b[0m\u001b[0;32mFalse\u001b[0m\u001b[0;34m)\u001b[0m\u001b[0;34m\u001b[0m\u001b[0;34m\u001b[0m\u001b[0m\n\u001b[0;32m---> 99\u001b[0;31m \u001b[0mmetrics\u001b[0m \u001b[0;34m=\u001b[0m \u001b[0mevaluate_global_model\u001b[0m\u001b[0;34m(\u001b[0m\u001b[0mtest_loader\u001b[0m\u001b[0;34m)\u001b[0m\u001b[0;34m\u001b[0m\u001b[0;34m\u001b[0m\u001b[0m\n\u001b[0m\u001b[1;32m    100\u001b[0m \u001b[0;34m\u001b[0m\u001b[0m\n\u001b[1;32m    101\u001b[0m \u001b[0mprint\u001b[0m\u001b[0;34m(\u001b[0m\u001b[0;34mf\"Global Model Performance:\"\u001b[0m\u001b[0;34m)\u001b[0m\u001b[0;34m\u001b[0m\u001b[0;34m\u001b[0m\u001b[0m\n",
            "\u001b[0;32m<ipython-input-57-cd9bb3b7178d>\u001b[0m in \u001b[0;36mevaluate_global_model\u001b[0;34m(test_loader)\u001b[0m\n\u001b[1;32m     84\u001b[0m \u001b[0;34m\u001b[0m\u001b[0m\n\u001b[1;32m     85\u001b[0m             \u001b[0;31m# Update metrics\u001b[0m\u001b[0;34m\u001b[0m\u001b[0;34m\u001b[0m\u001b[0m\n\u001b[0;32m---> 86\u001b[0;31m             \u001b[0mmetrics\u001b[0m \u001b[0;34m=\u001b[0m \u001b[0mcompute_metrics\u001b[0m\u001b[0;34m(\u001b[0m\u001b[0mmasks\u001b[0m\u001b[0;34m,\u001b[0m \u001b[0mpreds\u001b[0m\u001b[0;34m)\u001b[0m\u001b[0;34m\u001b[0m\u001b[0;34m\u001b[0m\u001b[0m\n\u001b[0m\u001b[1;32m     87\u001b[0m             \u001b[0;32mfor\u001b[0m \u001b[0mkey\u001b[0m \u001b[0;32min\u001b[0m \u001b[0mmetrics\u001b[0m\u001b[0;34m:\u001b[0m\u001b[0;34m\u001b[0m\u001b[0;34m\u001b[0m\u001b[0m\n\u001b[1;32m     88\u001b[0m                 \u001b[0mtotal_metrics\u001b[0m\u001b[0;34m[\u001b[0m\u001b[0mkey\u001b[0m\u001b[0;34m]\u001b[0m \u001b[0;34m+=\u001b[0m \u001b[0mmetrics\u001b[0m\u001b[0;34m[\u001b[0m\u001b[0mkey\u001b[0m\u001b[0;34m]\u001b[0m \u001b[0;34m*\u001b[0m \u001b[0mimages\u001b[0m\u001b[0;34m.\u001b[0m\u001b[0msize\u001b[0m\u001b[0;34m(\u001b[0m\u001b[0;36m0\u001b[0m\u001b[0;34m)\u001b[0m\u001b[0;34m\u001b[0m\u001b[0;34m\u001b[0m\u001b[0m\n",
            "\u001b[0;32m<ipython-input-57-cd9bb3b7178d>\u001b[0m in \u001b[0;36mcompute_metrics\u001b[0;34m(true_mask, pred_mask)\u001b[0m\n\u001b[1;32m     53\u001b[0m \u001b[0;34m\u001b[0m\u001b[0m\n\u001b[1;32m     54\u001b[0m     \u001b[0;31m# Dice Coefficient (F1 Score)\u001b[0m\u001b[0;34m\u001b[0m\u001b[0;34m\u001b[0m\u001b[0m\n\u001b[0;32m---> 55\u001b[0;31m     \u001b[0mintersection\u001b[0m \u001b[0;34m=\u001b[0m \u001b[0mnp\u001b[0m\u001b[0;34m.\u001b[0m\u001b[0msum\u001b[0m\u001b[0;34m(\u001b[0m\u001b[0mtrue_flat\u001b[0m \u001b[0;34m*\u001b[0m \u001b[0mpred_flat\u001b[0m\u001b[0;34m)\u001b[0m\u001b[0;34m\u001b[0m\u001b[0;34m\u001b[0m\u001b[0m\n\u001b[0m\u001b[1;32m     56\u001b[0m     \u001b[0mmetrics\u001b[0m\u001b[0;34m[\u001b[0m\u001b[0;34m'dice'\u001b[0m\u001b[0;34m]\u001b[0m \u001b[0;34m=\u001b[0m \u001b[0;34m(\u001b[0m\u001b[0;36m2.\u001b[0m \u001b[0;34m*\u001b[0m \u001b[0mintersection\u001b[0m\u001b[0;34m)\u001b[0m \u001b[0;34m/\u001b[0m \u001b[0;34m(\u001b[0m\u001b[0mnp\u001b[0m\u001b[0;34m.\u001b[0m\u001b[0msum\u001b[0m\u001b[0;34m(\u001b[0m\u001b[0mtrue_flat\u001b[0m\u001b[0;34m)\u001b[0m \u001b[0;34m+\u001b[0m \u001b[0mnp\u001b[0m\u001b[0;34m.\u001b[0m\u001b[0msum\u001b[0m\u001b[0;34m(\u001b[0m\u001b[0mpred_flat\u001b[0m\u001b[0;34m)\u001b[0m\u001b[0;34m)\u001b[0m\u001b[0;34m\u001b[0m\u001b[0;34m\u001b[0m\u001b[0m\n\u001b[1;32m     57\u001b[0m \u001b[0;34m\u001b[0m\u001b[0m\n",
            "\u001b[0;31mValueError\u001b[0m: operands could not be broadcast together with shapes (16777216,) (4194304,) "
          ]
        }
      ]
    },
    {
      "cell_type": "code",
      "source": [
        "# Add this before evaluation\n",
        "test_sample = next(iter(test_loader))\n",
        "images, masks = test_sample\n",
        "outputs = global_model(images.to(device))\n",
        "\n",
        "print(\"True mask shape:\", masks.shape)  # Should be (B, D, H, W)\n",
        "print(\"Model output shape:\", outputs.shape)  # Should be (B, num_classes, D, H, W)"
      ],
      "metadata": {
        "colab": {
          "base_uri": "https://localhost:8080/"
        },
        "id": "7D0gRjyKzbbP",
        "outputId": "78420f86-4d09-4f15-f3ea-c5b9df41e374"
      },
      "execution_count": null,
      "outputs": [
        {
          "output_type": "stream",
          "name": "stdout",
          "text": [
            "True mask shape: torch.Size([2, 4, 128, 128, 128])\n",
            "Model output shape: torch.Size([2, 4, 128, 128, 128])\n"
          ]
        }
      ]
    },
    {
      "cell_type": "code",
      "source": [
        "import torch\n",
        "import numpy as np\n",
        "import torch.nn.functional as F\n",
        "from torch.utils.data import DataLoader\n",
        "\n",
        "# 1. Federated Averaging Implementation\n",
        "def federated_average(model_paths):\n",
        "    \"\"\"Aggregate model weights using FedAvg algorithm\"\"\"\n",
        "    global_weights = {}\n",
        "    num_models = len(model_paths)\n",
        "\n",
        "    # Initialize with first model\n",
        "    checkpoint = torch.load(model_paths[0])\n",
        "    for key in checkpoint['model_state_dict']:\n",
        "        global_weights[key] = checkpoint['model_state_dict'][key] / num_models\n",
        "\n",
        "    # Aggregate weights from other models\n",
        "    for path in model_paths[1:]:\n",
        "        checkpoint = torch.load(path)\n",
        "        state_dict = checkpoint['model_state_dict']\n",
        "        for key in state_dict:\n",
        "            global_weights[key] += state_dict[key] / num_models\n",
        "\n",
        "    return global_weights\n",
        "\n",
        "# 2. Load and Aggregate Models\n",
        "device = torch.device('cuda' if torch.cuda.is_available() else 'cpu')\n",
        "\n",
        "# Paths to your saved models (modify accordingly)\n",
        "model_paths = [\n",
        "    '/content/drive/MyDrive/BraTS2020_Extracted/BraTS2020_TrainingData/Federated Learning/Simple U-Net/hosp1_models/best_model_hosp1.pth',\n",
        "    '/content/drive/MyDrive/BraTS2020_Extracted/BraTS2020_TrainingData/Federated Learning/Simple U-Net/hosp2_models/best_model_hosp2.pth',\n",
        "    '/content/drive/MyDrive/BraTS2020_Extracted/BraTS2020_TrainingData/Federated Learning/Simple U-Net/hosp3_models/best_model_hosp3.pth',\n",
        "    '/content/drive/MyDrive/BraTS2020_Extracted/BraTS2020_TrainingData/Federated Learning/Simple U-Net/hosp4_models/best_model_hosp4.pth',\n",
        "    '/content/drive/MyDrive/BraTS2020_Extracted/BraTS2020_TrainingData/Federated Learning/Simple U-Net/hosp5_models/best_model_hosp5.pth'\n",
        "\n",
        "]\n",
        "\n",
        "# Create global model instance\n",
        "global_model = Simple3DUNet().to(device)\n",
        "\n",
        "# Perform FedAvg\n",
        "global_weights = federated_average(model_paths)\n",
        "global_model.load_state_dict(global_weights)\n",
        "\n",
        "# 3. Evaluation with Corrected Metrics (as provided)\n",
        "# Corrected Metrics Functions\n",
        "def dice_coeff(pred, target, smooth=1e-6):\n",
        "    \"\"\"Input shapes: (batch_size, num_classes, D, H, W)\"\"\"\n",
        "    intersection = (pred * target).sum(dim=(2, 3, 4))  # Sum over spatial dimensions\n",
        "    union = pred.sum(dim=(2, 3, 4)) + target.sum(dim=(2, 3, 4))\n",
        "    dice = (2. * intersection + smooth) / (union + smooth)\n",
        "    return dice.mean()  # Mean over batch and classes\n",
        "\n",
        "def jaccard(pred, target, smooth=1e-6):\n",
        "    \"\"\"Input shapes: (batch_size, num_classes, D, H, W)\"\"\"\n",
        "    intersection = (pred * target).sum(dim=(2, 3, 4))  # Sum over spatial dimensions\n",
        "    total = (pred + target).sum(dim=(2, 3, 4))\n",
        "    union = total - intersection\n",
        "    iou = (intersection + smooth) / (union + smooth)\n",
        "    return iou.mean()  # Mean over batch and classes\n",
        "\n",
        "# Revised Evaluation Function\n",
        "def calculate_metrics(model, dataloader):\n",
        "    model.eval()\n",
        "    dice_scores = []\n",
        "    iou_scores = []\n",
        "\n",
        "    with torch.no_grad():\n",
        "        for images, masks in dataloader:\n",
        "            images = images.to(device)  # (B, 4, D, H, W)\n",
        "            masks = masks.to(device)    # (B, 4, D, H, W)\n",
        "\n",
        "            outputs = model(images)     # (B, 4, D, H, W)\n",
        "            probs = torch.softmax(outputs, dim=1)\n",
        "            preds = torch.argmax(probs, dim=1)  # (B, D, H, W)\n",
        "\n",
        "            # Convert to one-hot encoding\n",
        "            preds_onehot = F.one_hot(preds, num_classes=4)  # (B, D, H, W, 4)\n",
        "            preds_onehot = preds_onehot.permute(0, 4, 1, 2, 3).float()  # (B, 4, D, H, W)\n",
        "\n",
        "            # Calculate metrics per tumor class (skip background class 0)\n",
        "            for c in range(1, 4):\n",
        "                # Isolate current class\n",
        "                class_pred = preds_onehot[:, c:c+1]  # (B, 1, D, H, W)\n",
        "                class_mask = masks[:, c:c+1]         # (B, 1, D, H, W)\n",
        "\n",
        "                # Calculate metrics\n",
        "                dice = dice_coeff(class_pred, class_mask)\n",
        "                iou_val = jaccard(class_pred, class_mask)\n",
        "\n",
        "                dice_scores.append(dice.item())\n",
        "                iou_scores.append(iou_val.item())\n",
        "\n",
        "    return np.mean(dice_scores), np.mean(iou_scores)\n",
        "\n",
        "# 4. Run Evaluation\n",
        "# Assuming you have a test dataloader with one-hot encoded masks\n",
        "test_loader = DataLoader(val_dataset, batch_size=2, shuffle=False)\n",
        "\n",
        "dice_score, iou_score = calculate_metrics(global_model, test_loader)\n",
        "\n",
        "print(f\"\\nGlobal Model Performance:\")\n",
        "print(f\"Mean Dice Coefficient (Tumor Regions): {dice_score:.4f}\")\n",
        "print(f\"Mean IoU/Jaccard (Tumor Regions): {iou_score:.4f}\")"
      ],
      "metadata": {
        "colab": {
          "base_uri": "https://localhost:8080/"
        },
        "id": "YU6a7ROm1WDM",
        "outputId": "5644673c-8464-4183-c342-dc6ca05aba16"
      },
      "execution_count": null,
      "outputs": [
        {
          "output_type": "stream",
          "name": "stdout",
          "text": [
            "\n",
            "Global Model Performance:\n",
            "Mean Dice Coefficient (Tumor Regions): 0.0635\n",
            "Mean IoU/Jaccard (Tumor Regions): 0.0635\n"
          ]
        }
      ]
    },
    {
      "cell_type": "code",
      "source": [
        "# Test with sample data first\n",
        "test_sample = next(iter(test_loader))\n",
        "dice, iou = calculate_metrics(global_model, [test_sample])\n",
        "print(f\"Sample Dice: {dice:.4f}, IoU: {iou:.4f}\")\n",
        "\n",
        "# Full evaluation\n",
        "dice_score, iou_score = calculate_metrics(global_model, test_loader)\n",
        "print(f\"\\nFinal Metrics:\")\n",
        "print(f\"Mean Dice: {dice_score:.4f}\")\n",
        "print(f\"Mean IoU: {iou_score:.4f}\")"
      ],
      "metadata": {
        "colab": {
          "base_uri": "https://localhost:8080/"
        },
        "id": "l28jxApt2zxk",
        "outputId": "d54bee94-a321-433e-c3db-924531c35a19"
      },
      "execution_count": null,
      "outputs": [
        {
          "output_type": "stream",
          "name": "stdout",
          "text": [
            "Sample Dice: 0.0000, IoU: 0.0000\n",
            "\n",
            "Final Metrics:\n",
            "Mean Dice: 0.0635\n",
            "Mean IoU: 0.0635\n"
          ]
        }
      ]
    },
    {
      "cell_type": "code",
      "source": [
        "import torch\n",
        "import torch.nn as nn\n",
        "import torch.optim as optim\n",
        "from torch.utils.data import Dataset, DataLoader\n",
        "import numpy as np\n",
        "import os\n",
        "from tqdm import tqdm\n",
        "\n",
        "# Device configuration\n",
        "device = torch.device('cuda' if torch.cuda.is_available() else 'cpu')\n",
        "\n",
        "# Custom Dataset Class\n",
        "class BRATSDataset(Dataset):\n",
        "    def __init__(self, images_dir, masks_dir):\n",
        "        self.images_dir = images_dir\n",
        "        self.masks_dir = masks_dir\n",
        "        self.image_files = sorted(os.listdir(images_dir))\n",
        "        self.mask_files = sorted(os.listdir(masks_dir))\n",
        "\n",
        "    def __len__(self):\n",
        "        return len(self.image_files)\n",
        "\n",
        "    def __getitem__(self, idx):\n",
        "        img_path = os.path.join(self.images_dir, self.image_files[idx])\n",
        "        mask_path = os.path.join(self.masks_dir, self.mask_files[idx])\n",
        "\n",
        "        image = np.load(img_path)\n",
        "        mask = np.load(mask_path)\n",
        "\n",
        "        # Convert to channels-first format for PyTorch\n",
        "        image = np.transpose(image, (3, 0, 1, 2))  # (C, H, W, D)\n",
        "        mask = np.argmax(mask, axis=-1)  # Convert one-hot to class indices\n",
        "\n",
        "        image = torch.tensor(image, dtype=torch.float32)\n",
        "        mask = torch.tensor(mask, dtype=torch.long)\n",
        "\n",
        "        return image, mask\n",
        "\n",
        "# Modified U-Net without final softmax\n",
        "class Simple3DUNet(nn.Module):\n",
        "    def __init__(self, in_channels=3, out_channels=4):\n",
        "        super(Simple3DUNet, self).__init__()\n",
        "               # Encoder\n",
        "        self.enc1 = self.conv_block(in_channels, 32)\n",
        "        self.enc2 = self.conv_block(32, 64)\n",
        "        self.enc3 = self.conv_block(64, 128)\n",
        "        self.enc4 = self.conv_block(128, 256)\n",
        "\n",
        "        self.pool = nn.MaxPool3d(2)\n",
        "\n",
        "        # Bottleneck\n",
        "        self.bottleneck = self.conv_block(256, 512)\n",
        "\n",
        "        # Decoder\n",
        "        self.upconv4 = self.upconv_block(512, 256)\n",
        "        self.dec4 = self.conv_block(512, 256)\n",
        "        self.upconv3 = self.upconv_block(256, 128)\n",
        "        self.dec3 = self.conv_block(256, 128)\n",
        "        self.upconv2 = self.upconv_block(128, 64)\n",
        "        self.dec2 = self.conv_block(128, 64)\n",
        "        self.upconv1 = self.upconv_block(64, 32)\n",
        "        self.dec1 = self.conv_block(64, 32)\n",
        "\n",
        "        # Final convolution\n",
        "        self.final = nn.Conv3d(32, out_channels, kernel_size=1)\n",
        "\n",
        "    def conv_block(self, in_channels, out_channels):\n",
        "        return nn.Sequential(\n",
        "            nn.Conv3d(in_channels, out_channels, kernel_size=3, padding=1),\n",
        "            nn.BatchNorm3d(out_channels),\n",
        "            nn.ReLU(inplace=True),\n",
        "            nn.Conv3d(out_channels, out_channels, kernel_size=3, padding=1),\n",
        "            nn.BatchNorm3d(out_channels),\n",
        "            nn.ReLU(inplace=True)\n",
        "        )\n",
        "\n",
        "    def upconv_block(self, in_channels, out_channels):\n",
        "        return nn.Sequential(\n",
        "            nn.ConvTranspose3d(in_channels, out_channels, kernel_size=2, stride=2),\n",
        "            nn.BatchNorm3d(out_channels),\n",
        "            nn.ReLU(inplace=True)\n",
        "        )\n",
        "\n",
        "    def forward(self, x):\n",
        "        # Encoder\n",
        "        enc1 = self.enc1(x)\n",
        "        enc2 = self.enc2(self.pool(enc1))\n",
        "        enc3 = self.enc3(self.pool(enc2))\n",
        "        enc4 = self.enc4(self.pool(enc3))\n",
        "\n",
        "        # Bottleneck\n",
        "        bottleneck = self.bottleneck(self.pool(enc4))\n",
        "\n",
        "        # Decoder\n",
        "        dec4 = self.upconv4(bottleneck)\n",
        "        dec4 = torch.cat((dec4, enc4), dim=1)\n",
        "        dec4 = self.dec4(dec4)\n",
        "\n",
        "        dec3 = self.upconv3(dec4)\n",
        "        dec3 = torch.cat((dec3, enc3), dim=1)\n",
        "        dec3 = self.dec3(dec3)\n",
        "\n",
        "        dec2 = self.upconv2(dec3)\n",
        "        dec2 = torch.cat((dec2, enc2), dim=1)\n",
        "        dec2 = self.dec2(dec2)\n",
        "\n",
        "        dec1 = self.upconv1(dec2)\n",
        "        dec1 = torch.cat((dec1, enc1), dim=1)\n",
        "        dec1 = self.dec1(dec1)\n",
        "\n",
        "        return self.final(dec1)  # Remove softmax from final layer\n",
        "\n",
        "def train_hospital_model(hospital_id, global_weights_path, output_path):\n",
        "    # Load global model weights\n",
        "    global_model = Simple3DUNet()\n",
        "    global_model.load_state_dict(torch.load(global_weights_path))\n",
        "    global_model.to(device)\n",
        "\n",
        "    # Hospital-specific data paths\n",
        "    base_path = f'/content/drive/MyDrive/BraTS2020_Extracted/BraTS2020_TrainingData/Federated Learning/hosp{hospital_id}'\n",
        "    images_dir = os.path.join(base_path, 'images')\n",
        "    masks_dir = os.path.join(base_path, 'masks')\n",
        "\n",
        "    # Create dataset and dataloader\n",
        "    dataset = BRATSDataset(images_dir, masks_dir)\n",
        "    train_loader = DataLoader(dataset, batch_size=2, shuffle=True)\n",
        "\n",
        "    # Initialize local model with global weights\n",
        "    local_model = Simple3DUNet()\n",
        "    local_model.load_state_dict(global_model.state_dict())\n",
        "    local_model.to(device)\n",
        "\n",
        "    # Training setup\n",
        "    criterion = nn.CrossEntropyLoss()\n",
        "    optimizer = optim.Adam(local_model.parameters(), lr=1e-4)\n",
        "\n",
        "    # Training loop\n",
        "    local_model.train()\n",
        "    for epoch in range(3):  # 3 local epochs\n",
        "        running_loss = 0.0\n",
        "        for images, masks in tqdm(train_loader):\n",
        "            images = images.to(device)\n",
        "            masks = masks.to(device)\n",
        "\n",
        "            optimizer.zero_grad()\n",
        "            outputs = local_model(images)\n",
        "            loss = criterion(outputs, masks)\n",
        "            loss.backward()\n",
        "            optimizer.step()\n",
        "\n",
        "            running_loss += loss.item()\n",
        "\n",
        "        print(f'Hospital {hospital_id} - Epoch {epoch+1}, Loss: {running_loss/len(train_loader):.4f}')\n",
        "\n",
        "    # Save trained local model weights\n",
        "    torch.save(local_model.state_dict(), os.path.join(output_path, f'hosp{hospital_id}_weights.pth'))\n",
        "    print(f\"Saved hospital {hospital_id} weights\")\n",
        "\n",
        "if __name__ == \"__main__\":\n",
        "    # Configure these parameters for each hospital\n",
        "    HOSPITAL_ID = 1  # Change this for each hospital\n",
        "    GLOBAL_WEIGHTS_PATH = \"/content/drive/MyDrive/BraTS2020_Extracted/BraTS2020_TrainingData/Federated Learning/Simple U-Net/global_weights.pth\"  # Initial global weights\n",
        "    OUTPUT_PATH = f'/content/drive/MyDrive/BraTS2020_Extracted/BraTS2020_TrainingData/Federated Learning/Simple U-Net/hosp{hospital_id}_models'\n",
        "\n",
        "    train_hospital_model(HOSPITAL_ID, GLOBAL_WEIGHTS_PATH, OUTPUT_PATH)"
      ],
      "metadata": {
        "colab": {
          "base_uri": "https://localhost:8080/",
          "height": 351
        },
        "id": "i6IY8c6k319a",
        "outputId": "570f9e7c-ab56-4b4d-fbba-9e818dae7116"
      },
      "execution_count": null,
      "outputs": [
        {
          "output_type": "error",
          "ename": "EOFError",
          "evalue": "",
          "traceback": [
            "\u001b[0;31m---------------------------------------------------------------------------\u001b[0m",
            "\u001b[0;31mEOFError\u001b[0m                                  Traceback (most recent call last)",
            "\u001b[0;32m<ipython-input-100-6a64e69feffc>\u001b[0m in \u001b[0;36m<cell line: 0>\u001b[0;34m()\u001b[0m\n\u001b[1;32m    163\u001b[0m     \u001b[0mOUTPUT_PATH\u001b[0m \u001b[0;34m=\u001b[0m \u001b[0;34mf'/content/drive/MyDrive/BraTS2020_Extracted/BraTS2020_TrainingData/Federated Learning/Simple U-Net/hosp{hospital_id}_models'\u001b[0m\u001b[0;34m\u001b[0m\u001b[0;34m\u001b[0m\u001b[0m\n\u001b[1;32m    164\u001b[0m \u001b[0;34m\u001b[0m\u001b[0m\n\u001b[0;32m--> 165\u001b[0;31m     \u001b[0mtrain_hospital_model\u001b[0m\u001b[0;34m(\u001b[0m\u001b[0mHOSPITAL_ID\u001b[0m\u001b[0;34m,\u001b[0m \u001b[0mGLOBAL_WEIGHTS_PATH\u001b[0m\u001b[0;34m,\u001b[0m \u001b[0mOUTPUT_PATH\u001b[0m\u001b[0;34m)\u001b[0m\u001b[0;34m\u001b[0m\u001b[0;34m\u001b[0m\u001b[0m\n\u001b[0m",
            "\u001b[0;32m<ipython-input-100-6a64e69feffc>\u001b[0m in \u001b[0;36mtrain_hospital_model\u001b[0;34m(hospital_id, global_weights_path, output_path)\u001b[0m\n\u001b[1;32m    114\u001b[0m     \u001b[0;31m# Load global model weights\u001b[0m\u001b[0;34m\u001b[0m\u001b[0;34m\u001b[0m\u001b[0m\n\u001b[1;32m    115\u001b[0m     \u001b[0mglobal_model\u001b[0m \u001b[0;34m=\u001b[0m \u001b[0mSimple3DUNet\u001b[0m\u001b[0;34m(\u001b[0m\u001b[0;34m)\u001b[0m\u001b[0;34m\u001b[0m\u001b[0;34m\u001b[0m\u001b[0m\n\u001b[0;32m--> 116\u001b[0;31m     \u001b[0mglobal_model\u001b[0m\u001b[0;34m.\u001b[0m\u001b[0mload_state_dict\u001b[0m\u001b[0;34m(\u001b[0m\u001b[0mtorch\u001b[0m\u001b[0;34m.\u001b[0m\u001b[0mload\u001b[0m\u001b[0;34m(\u001b[0m\u001b[0mglobal_weights_path\u001b[0m\u001b[0;34m)\u001b[0m\u001b[0;34m)\u001b[0m\u001b[0;34m\u001b[0m\u001b[0;34m\u001b[0m\u001b[0m\n\u001b[0m\u001b[1;32m    117\u001b[0m     \u001b[0mglobal_model\u001b[0m\u001b[0;34m.\u001b[0m\u001b[0mto\u001b[0m\u001b[0;34m(\u001b[0m\u001b[0mdevice\u001b[0m\u001b[0;34m)\u001b[0m\u001b[0;34m\u001b[0m\u001b[0;34m\u001b[0m\u001b[0m\n\u001b[1;32m    118\u001b[0m \u001b[0;34m\u001b[0m\u001b[0m\n",
            "\u001b[0;32m/usr/local/lib/python3.11/dist-packages/torch/serialization.py\u001b[0m in \u001b[0;36mload\u001b[0;34m(f, map_location, pickle_module, weights_only, mmap, **pickle_load_args)\u001b[0m\n\u001b[1;32m   1485\u001b[0m         \u001b[0;32mif\u001b[0m \u001b[0mweights_only\u001b[0m\u001b[0;34m:\u001b[0m\u001b[0;34m\u001b[0m\u001b[0;34m\u001b[0m\u001b[0m\n\u001b[1;32m   1486\u001b[0m             \u001b[0;32mtry\u001b[0m\u001b[0;34m:\u001b[0m\u001b[0;34m\u001b[0m\u001b[0;34m\u001b[0m\u001b[0m\n\u001b[0;32m-> 1487\u001b[0;31m                 return _legacy_load(\n\u001b[0m\u001b[1;32m   1488\u001b[0m                     \u001b[0mopened_file\u001b[0m\u001b[0;34m,\u001b[0m\u001b[0;34m\u001b[0m\u001b[0;34m\u001b[0m\u001b[0m\n\u001b[1;32m   1489\u001b[0m                     \u001b[0mmap_location\u001b[0m\u001b[0;34m,\u001b[0m\u001b[0;34m\u001b[0m\u001b[0;34m\u001b[0m\u001b[0m\n",
            "\u001b[0;32m/usr/local/lib/python3.11/dist-packages/torch/serialization.py\u001b[0m in \u001b[0;36m_legacy_load\u001b[0;34m(f, map_location, pickle_module, **pickle_load_args)\u001b[0m\n\u001b[1;32m   1742\u001b[0m         )\n\u001b[1;32m   1743\u001b[0m \u001b[0;34m\u001b[0m\u001b[0m\n\u001b[0;32m-> 1744\u001b[0;31m     \u001b[0mmagic_number\u001b[0m \u001b[0;34m=\u001b[0m \u001b[0mpickle_module\u001b[0m\u001b[0;34m.\u001b[0m\u001b[0mload\u001b[0m\u001b[0;34m(\u001b[0m\u001b[0mf\u001b[0m\u001b[0;34m,\u001b[0m \u001b[0;34m**\u001b[0m\u001b[0mpickle_load_args\u001b[0m\u001b[0;34m)\u001b[0m\u001b[0;34m\u001b[0m\u001b[0;34m\u001b[0m\u001b[0m\n\u001b[0m\u001b[1;32m   1745\u001b[0m     \u001b[0;32mif\u001b[0m \u001b[0mmagic_number\u001b[0m \u001b[0;34m!=\u001b[0m \u001b[0mMAGIC_NUMBER\u001b[0m\u001b[0;34m:\u001b[0m\u001b[0;34m\u001b[0m\u001b[0;34m\u001b[0m\u001b[0m\n\u001b[1;32m   1746\u001b[0m         \u001b[0;32mraise\u001b[0m \u001b[0mRuntimeError\u001b[0m\u001b[0;34m(\u001b[0m\u001b[0;34m\"Invalid magic number; corrupt file?\"\u001b[0m\u001b[0;34m)\u001b[0m\u001b[0;34m\u001b[0m\u001b[0;34m\u001b[0m\u001b[0m\n",
            "\u001b[0;32m/usr/local/lib/python3.11/dist-packages/torch/_weights_only_unpickler.py\u001b[0m in \u001b[0;36mload\u001b[0;34m(file, encoding)\u001b[0m\n\u001b[1;32m    551\u001b[0m \u001b[0;34m\u001b[0m\u001b[0m\n\u001b[1;32m    552\u001b[0m \u001b[0;32mdef\u001b[0m \u001b[0mload\u001b[0m\u001b[0;34m(\u001b[0m\u001b[0mfile\u001b[0m\u001b[0;34m,\u001b[0m \u001b[0;34m*\u001b[0m\u001b[0;34m,\u001b[0m \u001b[0mencoding\u001b[0m\u001b[0;34m:\u001b[0m \u001b[0mstr\u001b[0m \u001b[0;34m=\u001b[0m \u001b[0;34m\"ASCII\"\u001b[0m\u001b[0;34m)\u001b[0m\u001b[0;34m:\u001b[0m\u001b[0;34m\u001b[0m\u001b[0;34m\u001b[0m\u001b[0m\n\u001b[0;32m--> 553\u001b[0;31m     \u001b[0;32mreturn\u001b[0m \u001b[0mUnpickler\u001b[0m\u001b[0;34m(\u001b[0m\u001b[0mfile\u001b[0m\u001b[0;34m,\u001b[0m \u001b[0mencoding\u001b[0m\u001b[0;34m=\u001b[0m\u001b[0mencoding\u001b[0m\u001b[0;34m)\u001b[0m\u001b[0;34m.\u001b[0m\u001b[0mload\u001b[0m\u001b[0;34m(\u001b[0m\u001b[0;34m)\u001b[0m\u001b[0;34m\u001b[0m\u001b[0;34m\u001b[0m\u001b[0m\n\u001b[0m",
            "\u001b[0;32m/usr/local/lib/python3.11/dist-packages/torch/_weights_only_unpickler.py\u001b[0m in \u001b[0;36mload\u001b[0;34m(self)\u001b[0m\n\u001b[1;32m    320\u001b[0m             \u001b[0mkey\u001b[0m \u001b[0;34m=\u001b[0m \u001b[0mread\u001b[0m\u001b[0;34m(\u001b[0m\u001b[0;36m1\u001b[0m\u001b[0;34m)\u001b[0m\u001b[0;34m\u001b[0m\u001b[0;34m\u001b[0m\u001b[0m\n\u001b[1;32m    321\u001b[0m             \u001b[0;32mif\u001b[0m \u001b[0;32mnot\u001b[0m \u001b[0mkey\u001b[0m\u001b[0;34m:\u001b[0m\u001b[0;34m\u001b[0m\u001b[0;34m\u001b[0m\u001b[0m\n\u001b[0;32m--> 322\u001b[0;31m                 \u001b[0;32mraise\u001b[0m \u001b[0mEOFError\u001b[0m\u001b[0;34m\u001b[0m\u001b[0;34m\u001b[0m\u001b[0m\n\u001b[0m\u001b[1;32m    323\u001b[0m             \u001b[0;32massert\u001b[0m \u001b[0misinstance\u001b[0m\u001b[0;34m(\u001b[0m\u001b[0mkey\u001b[0m\u001b[0;34m,\u001b[0m \u001b[0mbytes_types\u001b[0m\u001b[0;34m)\u001b[0m\u001b[0;34m\u001b[0m\u001b[0;34m\u001b[0m\u001b[0m\n\u001b[1;32m    324\u001b[0m             \u001b[0;31m# Risky operators\u001b[0m\u001b[0;34m\u001b[0m\u001b[0;34m\u001b[0m\u001b[0m\n",
            "\u001b[0;31mEOFError\u001b[0m: "
          ]
        }
      ]
    },
    {
      "cell_type": "code",
      "source": [],
      "metadata": {
        "id": "FZbY1sxBAc_5"
      },
      "execution_count": null,
      "outputs": []
    }
  ]
}